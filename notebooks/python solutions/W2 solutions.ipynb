{
 "cells": [
  {
   "cell_type": "markdown",
   "metadata": {},
   "source": [
    "# Introductory Data Science for Innovation Studies\n",
    "## Seminar 2"
   ]
  },
  {
   "cell_type": "markdown",
   "metadata": {},
   "source": [
    "Before we start having fun let's get the basics in place. We'll be using the California Housing data from last week so lets import all of our stuff from before (and maybe a few extra things we may not be so familiar with)"
   ]
  },
  {
   "cell_type": "code",
   "execution_count": 203,
   "metadata": {},
   "outputs": [],
   "source": [
    "import pandas as pd \n",
    "import numpy as np \n",
    "from matplotlib import pyplot as plt "
   ]
  },
  {
   "cell_type": "code",
   "execution_count": 204,
   "metadata": {},
   "outputs": [],
   "source": [
    "from sklearn.datasets import fetch_california_housing"
   ]
  },
  {
   "cell_type": "markdown",
   "metadata": {},
   "source": [
    "Now lets load California Housing (we know this but always good to remember)"
   ]
  },
  {
   "cell_type": "code",
   "execution_count": 205,
   "metadata": {},
   "outputs": [],
   "source": [
    "cal_housing = fetch_california_housing(as_frame=True)"
   ]
  },
  {
   "cell_type": "code",
   "execution_count": 206,
   "metadata": {},
   "outputs": [
    {
     "data": {
      "text/plain": [
       "sklearn.utils.Bunch"
      ]
     },
     "execution_count": 206,
     "metadata": {},
     "output_type": "execute_result"
    }
   ],
   "source": [
    "type(cal_housing)"
   ]
  },
  {
   "cell_type": "markdown",
   "metadata": {},
   "source": [
    "Here comes the new stuff though. So far we haven't really looked at what we've got we just did some slightly hand-wavey visualisations but it did look a bit like magic. It doesn't really work that way though. What does this data even look like? What's its shape? How many rows and columns are there? Basics but fundamentals:"
   ]
  },
  {
   "cell_type": "code",
   "execution_count": 207,
   "metadata": {},
   "outputs": [],
   "source": [
    "df = pd.DataFrame(cal_housing.data, columns = cal_housing.feature_names)"
   ]
  },
  {
   "cell_type": "code",
   "execution_count": 208,
   "metadata": {},
   "outputs": [
    {
     "data": {
      "text/plain": [
       "pandas.core.frame.DataFrame"
      ]
     },
     "execution_count": 208,
     "metadata": {},
     "output_type": "execute_result"
    }
   ],
   "source": [
    "type(df)"
   ]
  },
  {
   "cell_type": "code",
   "execution_count": 209,
   "metadata": {},
   "outputs": [
    {
     "data": {
      "text/html": [
       "<div>\n",
       "<style scoped>\n",
       "    .dataframe tbody tr th:only-of-type {\n",
       "        vertical-align: middle;\n",
       "    }\n",
       "\n",
       "    .dataframe tbody tr th {\n",
       "        vertical-align: top;\n",
       "    }\n",
       "\n",
       "    .dataframe thead th {\n",
       "        text-align: right;\n",
       "    }\n",
       "</style>\n",
       "<table border=\"1\" class=\"dataframe\">\n",
       "  <thead>\n",
       "    <tr style=\"text-align: right;\">\n",
       "      <th></th>\n",
       "      <th>MedInc</th>\n",
       "      <th>HouseAge</th>\n",
       "      <th>AveRooms</th>\n",
       "      <th>AveBedrms</th>\n",
       "      <th>Population</th>\n",
       "      <th>AveOccup</th>\n",
       "      <th>Latitude</th>\n",
       "      <th>Longitude</th>\n",
       "    </tr>\n",
       "  </thead>\n",
       "  <tbody>\n",
       "    <tr>\n",
       "      <th>0</th>\n",
       "      <td>8.3252</td>\n",
       "      <td>41.0</td>\n",
       "      <td>6.984127</td>\n",
       "      <td>1.023810</td>\n",
       "      <td>322.0</td>\n",
       "      <td>2.555556</td>\n",
       "      <td>37.88</td>\n",
       "      <td>-122.23</td>\n",
       "    </tr>\n",
       "    <tr>\n",
       "      <th>1</th>\n",
       "      <td>8.3014</td>\n",
       "      <td>21.0</td>\n",
       "      <td>6.238137</td>\n",
       "      <td>0.971880</td>\n",
       "      <td>2401.0</td>\n",
       "      <td>2.109842</td>\n",
       "      <td>37.86</td>\n",
       "      <td>-122.22</td>\n",
       "    </tr>\n",
       "    <tr>\n",
       "      <th>2</th>\n",
       "      <td>7.2574</td>\n",
       "      <td>52.0</td>\n",
       "      <td>8.288136</td>\n",
       "      <td>1.073446</td>\n",
       "      <td>496.0</td>\n",
       "      <td>2.802260</td>\n",
       "      <td>37.85</td>\n",
       "      <td>-122.24</td>\n",
       "    </tr>\n",
       "    <tr>\n",
       "      <th>3</th>\n",
       "      <td>5.6431</td>\n",
       "      <td>52.0</td>\n",
       "      <td>5.817352</td>\n",
       "      <td>1.073059</td>\n",
       "      <td>558.0</td>\n",
       "      <td>2.547945</td>\n",
       "      <td>37.85</td>\n",
       "      <td>-122.25</td>\n",
       "    </tr>\n",
       "    <tr>\n",
       "      <th>4</th>\n",
       "      <td>3.8462</td>\n",
       "      <td>52.0</td>\n",
       "      <td>6.281853</td>\n",
       "      <td>1.081081</td>\n",
       "      <td>565.0</td>\n",
       "      <td>2.181467</td>\n",
       "      <td>37.85</td>\n",
       "      <td>-122.25</td>\n",
       "    </tr>\n",
       "  </tbody>\n",
       "</table>\n",
       "</div>"
      ],
      "text/plain": [
       "   MedInc  HouseAge  AveRooms  AveBedrms  Population  AveOccup  Latitude  \\\n",
       "0  8.3252      41.0  6.984127   1.023810       322.0  2.555556     37.88   \n",
       "1  8.3014      21.0  6.238137   0.971880      2401.0  2.109842     37.86   \n",
       "2  7.2574      52.0  8.288136   1.073446       496.0  2.802260     37.85   \n",
       "3  5.6431      52.0  5.817352   1.073059       558.0  2.547945     37.85   \n",
       "4  3.8462      52.0  6.281853   1.081081       565.0  2.181467     37.85   \n",
       "\n",
       "   Longitude  \n",
       "0    -122.23  \n",
       "1    -122.22  \n",
       "2    -122.24  \n",
       "3    -122.25  \n",
       "4    -122.25  "
      ]
     },
     "execution_count": 209,
     "metadata": {},
     "output_type": "execute_result"
    }
   ],
   "source": [
    "df.head()"
   ]
  },
  {
   "cell_type": "code",
   "execution_count": 210,
   "metadata": {},
   "outputs": [
    {
     "data": {
      "text/plain": [
       "(20640, 8)"
      ]
     },
     "execution_count": 210,
     "metadata": {},
     "output_type": "execute_result"
    }
   ],
   "source": [
    "df.shape"
   ]
  },
  {
   "cell_type": "code",
   "execution_count": 211,
   "metadata": {},
   "outputs": [
    {
     "data": {
      "text/plain": [
       "Index(['MedInc', 'HouseAge', 'AveRooms', 'AveBedrms', 'Population', 'AveOccup',\n",
       "       'Latitude', 'Longitude'],\n",
       "      dtype='object')"
      ]
     },
     "execution_count": 211,
     "metadata": {},
     "output_type": "execute_result"
    }
   ],
   "source": [
    "df.columns"
   ]
  },
  {
   "cell_type": "code",
   "execution_count": 212,
   "metadata": {},
   "outputs": [
    {
     "data": {
      "text/html": [
       "<div>\n",
       "<style scoped>\n",
       "    .dataframe tbody tr th:only-of-type {\n",
       "        vertical-align: middle;\n",
       "    }\n",
       "\n",
       "    .dataframe tbody tr th {\n",
       "        vertical-align: top;\n",
       "    }\n",
       "\n",
       "    .dataframe thead th {\n",
       "        text-align: right;\n",
       "    }\n",
       "</style>\n",
       "<table border=\"1\" class=\"dataframe\">\n",
       "  <thead>\n",
       "    <tr style=\"text-align: right;\">\n",
       "      <th></th>\n",
       "      <th>MedInc</th>\n",
       "      <th>HouseAge</th>\n",
       "      <th>AveRooms</th>\n",
       "      <th>AveBedrms</th>\n",
       "      <th>Population</th>\n",
       "      <th>AveOccup</th>\n",
       "      <th>Latitude</th>\n",
       "      <th>Longitude</th>\n",
       "    </tr>\n",
       "  </thead>\n",
       "  <tbody>\n",
       "    <tr>\n",
       "      <th>count</th>\n",
       "      <td>20640.000000</td>\n",
       "      <td>20640.000000</td>\n",
       "      <td>20640.000000</td>\n",
       "      <td>20640.000000</td>\n",
       "      <td>20640.000000</td>\n",
       "      <td>20640.000000</td>\n",
       "      <td>20640.000000</td>\n",
       "      <td>20640.000000</td>\n",
       "    </tr>\n",
       "    <tr>\n",
       "      <th>mean</th>\n",
       "      <td>3.870671</td>\n",
       "      <td>28.639486</td>\n",
       "      <td>5.429000</td>\n",
       "      <td>1.096675</td>\n",
       "      <td>1425.476744</td>\n",
       "      <td>3.070655</td>\n",
       "      <td>35.631861</td>\n",
       "      <td>-119.569704</td>\n",
       "    </tr>\n",
       "    <tr>\n",
       "      <th>std</th>\n",
       "      <td>1.899822</td>\n",
       "      <td>12.585558</td>\n",
       "      <td>2.474173</td>\n",
       "      <td>0.473911</td>\n",
       "      <td>1132.462122</td>\n",
       "      <td>10.386050</td>\n",
       "      <td>2.135952</td>\n",
       "      <td>2.003532</td>\n",
       "    </tr>\n",
       "    <tr>\n",
       "      <th>min</th>\n",
       "      <td>0.499900</td>\n",
       "      <td>1.000000</td>\n",
       "      <td>0.846154</td>\n",
       "      <td>0.333333</td>\n",
       "      <td>3.000000</td>\n",
       "      <td>0.692308</td>\n",
       "      <td>32.540000</td>\n",
       "      <td>-124.350000</td>\n",
       "    </tr>\n",
       "    <tr>\n",
       "      <th>25%</th>\n",
       "      <td>2.563400</td>\n",
       "      <td>18.000000</td>\n",
       "      <td>4.440716</td>\n",
       "      <td>1.006079</td>\n",
       "      <td>787.000000</td>\n",
       "      <td>2.429741</td>\n",
       "      <td>33.930000</td>\n",
       "      <td>-121.800000</td>\n",
       "    </tr>\n",
       "    <tr>\n",
       "      <th>50%</th>\n",
       "      <td>3.534800</td>\n",
       "      <td>29.000000</td>\n",
       "      <td>5.229129</td>\n",
       "      <td>1.048780</td>\n",
       "      <td>1166.000000</td>\n",
       "      <td>2.818116</td>\n",
       "      <td>34.260000</td>\n",
       "      <td>-118.490000</td>\n",
       "    </tr>\n",
       "    <tr>\n",
       "      <th>75%</th>\n",
       "      <td>4.743250</td>\n",
       "      <td>37.000000</td>\n",
       "      <td>6.052381</td>\n",
       "      <td>1.099526</td>\n",
       "      <td>1725.000000</td>\n",
       "      <td>3.282261</td>\n",
       "      <td>37.710000</td>\n",
       "      <td>-118.010000</td>\n",
       "    </tr>\n",
       "    <tr>\n",
       "      <th>max</th>\n",
       "      <td>15.000100</td>\n",
       "      <td>52.000000</td>\n",
       "      <td>141.909091</td>\n",
       "      <td>34.066667</td>\n",
       "      <td>35682.000000</td>\n",
       "      <td>1243.333333</td>\n",
       "      <td>41.950000</td>\n",
       "      <td>-114.310000</td>\n",
       "    </tr>\n",
       "  </tbody>\n",
       "</table>\n",
       "</div>"
      ],
      "text/plain": [
       "             MedInc      HouseAge      AveRooms     AveBedrms    Population  \\\n",
       "count  20640.000000  20640.000000  20640.000000  20640.000000  20640.000000   \n",
       "mean       3.870671     28.639486      5.429000      1.096675   1425.476744   \n",
       "std        1.899822     12.585558      2.474173      0.473911   1132.462122   \n",
       "min        0.499900      1.000000      0.846154      0.333333      3.000000   \n",
       "25%        2.563400     18.000000      4.440716      1.006079    787.000000   \n",
       "50%        3.534800     29.000000      5.229129      1.048780   1166.000000   \n",
       "75%        4.743250     37.000000      6.052381      1.099526   1725.000000   \n",
       "max       15.000100     52.000000    141.909091     34.066667  35682.000000   \n",
       "\n",
       "           AveOccup      Latitude     Longitude  \n",
       "count  20640.000000  20640.000000  20640.000000  \n",
       "mean       3.070655     35.631861   -119.569704  \n",
       "std       10.386050      2.135952      2.003532  \n",
       "min        0.692308     32.540000   -124.350000  \n",
       "25%        2.429741     33.930000   -121.800000  \n",
       "50%        2.818116     34.260000   -118.490000  \n",
       "75%        3.282261     37.710000   -118.010000  \n",
       "max     1243.333333     41.950000   -114.310000  "
      ]
     },
     "execution_count": 212,
     "metadata": {},
     "output_type": "execute_result"
    }
   ],
   "source": [
    "df.describe()"
   ]
  },
  {
   "cell_type": "markdown",
   "metadata": {},
   "source": [
    "After this we may want to focus a little more on certain specific data types or sometimes our data may be a little unclean, noisy, or even have missing values. Let's look at a classic one - the titanic dataset. The notes for this dataset can be found here: https://www.openml.org/search?type=data&sort=runs&id=40945&status=active although I wasn't happy with the data so we'll download it direct from Vanderbilt"
   ]
  },
  {
   "cell_type": "code",
   "execution_count": 213,
   "metadata": {},
   "outputs": [],
   "source": [
    "url = \"https://biostat.app.vumc.org/wiki/pub/Main/DataSets/titanic3.csv\"\n",
    "titanic = pd.read_csv(url)"
   ]
  },
  {
   "cell_type": "markdown",
   "metadata": {},
   "source": [
    "\n",
    "## 1. Explore the given dataset\n",
    "\n",
    "So just like before - let's see what we've got"
   ]
  },
  {
   "cell_type": "code",
   "execution_count": 214,
   "metadata": {},
   "outputs": [
    {
     "name": "stdout",
     "output_type": "stream",
     "text": [
      "   pclass  survived                                             name     sex  \\\n",
      "0       1         1                    Allen, Miss. Elisabeth Walton  female   \n",
      "1       1         1                   Allison, Master. Hudson Trevor    male   \n",
      "2       1         0                     Allison, Miss. Helen Loraine  female   \n",
      "3       1         0             Allison, Mr. Hudson Joshua Creighton    male   \n",
      "4       1         0  Allison, Mrs. Hudson J C (Bessie Waldo Daniels)  female   \n",
      "\n",
      "     age  sibsp  parch  ticket      fare    cabin embarked boat   body  \\\n",
      "0  29.00      0      0   24160  211.3375       B5        S    2    NaN   \n",
      "1   0.92      1      2  113781  151.5500  C22 C26        S   11    NaN   \n",
      "2   2.00      1      2  113781  151.5500  C22 C26        S  NaN    NaN   \n",
      "3  30.00      1      2  113781  151.5500  C22 C26        S  NaN  135.0   \n",
      "4  25.00      1      2  113781  151.5500  C22 C26        S  NaN    NaN   \n",
      "\n",
      "                         home.dest  \n",
      "0                     St Louis, MO  \n",
      "1  Montreal, PQ / Chesterville, ON  \n",
      "2  Montreal, PQ / Chesterville, ON  \n",
      "3  Montreal, PQ / Chesterville, ON  \n",
      "4  Montreal, PQ / Chesterville, ON  \n",
      "      pclass  survived                       name     sex   age  sibsp  parch  \\\n",
      "1301       3         0       Youseff, Mr. Gerious    male  45.5      0      0   \n",
      "1302       3         0          Yousif, Mr. Wazli    male   NaN      0      0   \n",
      "1303       3         0      Yousseff, Mr. Gerious    male   NaN      0      0   \n",
      "1304       3         0       Zabour, Miss. Hileni  female  14.5      1      0   \n",
      "1305       3         0      Zabour, Miss. Thamine  female   NaN      1      0   \n",
      "1306       3         0  Zakarian, Mr. Mapriededer    male  26.5      0      0   \n",
      "1307       3         0        Zakarian, Mr. Ortin    male  27.0      0      0   \n",
      "1308       3         0         Zimmerman, Mr. Leo    male  29.0      0      0   \n",
      "\n",
      "      ticket     fare cabin embarked boat   body home.dest  \n",
      "1301    2628   7.2250   NaN        C  NaN  312.0       NaN  \n",
      "1302    2647   7.2250   NaN        C  NaN    NaN       NaN  \n",
      "1303    2627  14.4583   NaN        C  NaN    NaN       NaN  \n",
      "1304    2665  14.4542   NaN        C  NaN  328.0       NaN  \n",
      "1305    2665  14.4542   NaN        C  NaN    NaN       NaN  \n",
      "1306    2656   7.2250   NaN        C  NaN  304.0       NaN  \n",
      "1307    2670   7.2250   NaN        C  NaN    NaN       NaN  \n",
      "1308  315082   7.8750   NaN        S  NaN    NaN       NaN  \n"
     ]
    }
   ],
   "source": [
    "titanic.head()\n",
    "# 1.4 Use 'head()' and 'tail()' to check the first and last rows\n",
    "print(titanic.head(5))  # Print the first 5 rows\n",
    "print(titanic.tail(8))  # Print the last 8 rows"
   ]
  },
  {
   "cell_type": "markdown",
   "metadata": {},
   "source": [
    "### 1.1 Look at the 'shape' of the dataset"
   ]
  },
  {
   "cell_type": "code",
   "execution_count": 215,
   "metadata": {},
   "outputs": [
    {
     "name": "stdout",
     "output_type": "stream",
     "text": [
      "(1309, 14)\n"
     ]
    }
   ],
   "source": [
    "print(titanic.shape)  # This will print the number of rows and columns\n"
   ]
  },
  {
   "cell_type": "markdown",
   "metadata": {},
   "source": [
    "### 1.2 You can also use the functions 'shape' or 'shape[0]' and 'shape[1]' to get the number of rows and columns"
   ]
  },
  {
   "cell_type": "code",
   "execution_count": null,
   "metadata": {},
   "outputs": [],
   "source": []
  },
  {
   "cell_type": "markdown",
   "metadata": {},
   "source": [
    "### 1.3 Inspect the column names\n"
   ]
  },
  {
   "cell_type": "code",
   "execution_count": 216,
   "metadata": {},
   "outputs": [
    {
     "name": "stdout",
     "output_type": "stream",
     "text": [
      "Index(['pclass', 'survived', 'name', 'sex', 'age', 'sibsp', 'parch', 'ticket',\n",
      "       'fare', 'cabin', 'embarked', 'boat', 'body', 'home.dest'],\n",
      "      dtype='object')\n"
     ]
    }
   ],
   "source": [
    "print(titanic.columns)"
   ]
  },
  {
   "cell_type": "markdown",
   "metadata": {},
   "source": [
    "So the column names are a bit weird so we have to use the notes to workout what's going on, equally the names are all a bit messed up. We can handle some of that though. What we are most interested in is trying to understand the breakdown between different characteristics and whether they survived. Let's also split the Name field into first and last names (maybe even title too if you want a challenge!)"
   ]
  },
  {
   "cell_type": "code",
   "execution_count": 217,
   "metadata": {},
   "outputs": [],
   "source": [
    "titanic[['Last Name', 'temp']] = titanic['name'].str.split(', ', expand=True)\n",
    "titanic[['Title', 'First Name']] = titanic['temp'].str.split('. ', n=1, expand=True)\n",
    "titanic = titanic.drop('temp', axis=1)"
   ]
  },
  {
   "cell_type": "markdown",
   "metadata": {},
   "source": [
    "### 1.5 Check the overall structure of the dataset"
   ]
  },
  {
   "cell_type": "code",
   "execution_count": 218,
   "metadata": {},
   "outputs": [
    {
     "name": "stdout",
     "output_type": "stream",
     "text": [
      "<class 'pandas.core.frame.DataFrame'>\n",
      "RangeIndex: 1309 entries, 0 to 1308\n",
      "Data columns (total 17 columns):\n",
      " #   Column      Non-Null Count  Dtype  \n",
      "---  ------      --------------  -----  \n",
      " 0   pclass      1309 non-null   int64  \n",
      " 1   survived    1309 non-null   int64  \n",
      " 2   name        1309 non-null   object \n",
      " 3   sex         1309 non-null   object \n",
      " 4   age         1046 non-null   float64\n",
      " 5   sibsp       1309 non-null   int64  \n",
      " 6   parch       1309 non-null   int64  \n",
      " 7   ticket      1309 non-null   object \n",
      " 8   fare        1308 non-null   float64\n",
      " 9   cabin       295 non-null    object \n",
      " 10  embarked    1307 non-null   object \n",
      " 11  boat        486 non-null    object \n",
      " 12  body        121 non-null    float64\n",
      " 13  home.dest   745 non-null    object \n",
      " 14  Last Name   1309 non-null   object \n",
      " 15  Title       1309 non-null   object \n",
      " 16  First Name  1309 non-null   object \n",
      "dtypes: float64(3), int64(4), object(10)\n",
      "memory usage: 174.0+ KB\n",
      "None\n",
      "            pclass     survived          age        sibsp        parch  \\\n",
      "count  1309.000000  1309.000000  1046.000000  1309.000000  1309.000000   \n",
      "mean      2.294882     0.381971    29.881138     0.498854     0.385027   \n",
      "std       0.837836     0.486055    14.413493     1.041658     0.865560   \n",
      "min       1.000000     0.000000     0.170000     0.000000     0.000000   \n",
      "25%       2.000000     0.000000    21.000000     0.000000     0.000000   \n",
      "50%       3.000000     0.000000    28.000000     0.000000     0.000000   \n",
      "75%       3.000000     1.000000    39.000000     1.000000     0.000000   \n",
      "max       3.000000     1.000000    80.000000     8.000000     9.000000   \n",
      "\n",
      "              fare        body  \n",
      "count  1308.000000  121.000000  \n",
      "mean     33.295479  160.809917  \n",
      "std      51.758668   97.696922  \n",
      "min       0.000000    1.000000  \n",
      "25%       7.895800   72.000000  \n",
      "50%      14.454200  155.000000  \n",
      "75%      31.275000  256.000000  \n",
      "max     512.329200  328.000000  \n"
     ]
    }
   ],
   "source": [
    "\n",
    "print(titanic.info())  # This provides information about columns and their data types\n",
    "print(titanic.describe())  # This gives summary statistics for numerical columns"
   ]
  },
  {
   "cell_type": "markdown",
   "metadata": {},
   "source": [
    "### 1.7 Change these variables to factors - sex and embarked. Then re-run describe "
   ]
  },
  {
   "cell_type": "code",
   "execution_count": 219,
   "metadata": {},
   "outputs": [
    {
     "name": "stdout",
     "output_type": "stream",
     "text": [
      "category\n",
      "category\n",
      "            pclass     survived          age        sibsp        parch  \\\n",
      "count  1309.000000  1309.000000  1046.000000  1309.000000  1309.000000   \n",
      "mean      2.294882     0.381971    29.881138     0.498854     0.385027   \n",
      "std       0.837836     0.486055    14.413493     1.041658     0.865560   \n",
      "min       1.000000     0.000000     0.170000     0.000000     0.000000   \n",
      "25%       2.000000     0.000000    21.000000     0.000000     0.000000   \n",
      "50%       3.000000     0.000000    28.000000     0.000000     0.000000   \n",
      "75%       3.000000     1.000000    39.000000     1.000000     0.000000   \n",
      "max       3.000000     1.000000    80.000000     8.000000     9.000000   \n",
      "\n",
      "              fare        body  \n",
      "count  1308.000000  121.000000  \n",
      "mean     33.295479  160.809917  \n",
      "std      51.758668   97.696922  \n",
      "min       0.000000    1.000000  \n",
      "25%       7.895800   72.000000  \n",
      "50%      14.454200  155.000000  \n",
      "75%      31.275000  256.000000  \n",
      "max     512.329200  328.000000  \n"
     ]
    }
   ],
   "source": [
    "\n",
    "titanic['sex'] = pd.Categorical(titanic['sex'])\n",
    "print(titanic['sex'].dtype)  # Check if 'sex' column is a category\n",
    "titanic['embarked'] = pd.Categorical(titanic['embarked'])\n",
    "print(titanic['embarked'].dtype)  # Check if 'embarked' column is a category\n",
    "\n",
    "print(titanic.describe())"
   ]
  },
  {
   "cell_type": "markdown",
   "metadata": {},
   "source": [
    "### 1.8 Now try grouping by class and sex and see whether you can see anything"
   ]
  },
  {
   "cell_type": "code",
   "execution_count": 220,
   "metadata": {},
   "outputs": [
    {
     "name": "stdout",
     "output_type": "stream",
     "text": [
      "              survived                                                 age  \\\n",
      "                 count      mean       std  min  25%  50%  75%  max  count   \n",
      "pclass sex                                                                   \n",
      "1      female    144.0  0.965278  0.183714  0.0  1.0  1.0  1.0  1.0  133.0   \n",
      "       male      179.0  0.340782  0.475302  0.0  0.0  0.0  1.0  1.0  151.0   \n",
      "2      female    106.0  0.886792  0.318352  0.0  1.0  1.0  1.0  1.0  103.0   \n",
      "       male      171.0  0.146199  0.354343  0.0  0.0  0.0  0.0  1.0  158.0   \n",
      "3      female    216.0  0.490741  0.501076  0.0  0.0  0.0  1.0  1.0  152.0   \n",
      "       male      493.0  0.152130  0.359511  0.0  0.0  0.0  0.0  1.0  349.0   \n",
      "\n",
      "                          ...        fare            body              \\\n",
      "                    mean  ...         75%       max count        mean   \n",
      "pclass sex                ...                                           \n",
      "1      female  37.037594  ...  135.919775  512.3292   0.0         NaN   \n",
      "       male    41.029272  ...   79.200000  512.3292  35.0  162.828571   \n",
      "2      female  27.499223  ...   26.250000   65.0000   1.0   52.000000   \n",
      "       male    30.815380  ...   26.000000   73.5000  30.0  171.233333   \n",
      "3      female  22.185329  ...   17.850000   69.5500   7.0  183.000000   \n",
      "       male    25.962264  ...    9.586450   69.5500  48.0  151.854167   \n",
      "\n",
      "                                                               \n",
      "                      std   min     25%    50%     75%    max  \n",
      "pclass sex                                                     \n",
      "1      female         NaN   NaN     NaN    NaN     NaN    NaN  \n",
      "       male     82.652172  16.0  109.50  166.0  233.00  307.0  \n",
      "2      female         NaN  52.0   52.00   52.0   52.00   52.0  \n",
      "       male    106.708007  15.0   85.00  160.0  285.25  322.0  \n",
      "3      female  140.538251   7.0   57.00  206.0  313.00  328.0  \n",
      "       male     96.957984   1.0   68.75  148.0  214.50  314.0  \n",
      "\n",
      "[6 rows x 48 columns]\n"
     ]
    }
   ],
   "source": [
    "print(titanic.groupby(['pclass', 'sex']).describe())"
   ]
  },
  {
   "cell_type": "markdown",
   "metadata": {},
   "source": [
    "Now try to calculate the survival rate based on sex/gender and travel class! See anything now?"
   ]
  },
  {
   "cell_type": "code",
   "execution_count": 221,
   "metadata": {},
   "outputs": [
    {
     "name": "stdout",
     "output_type": "stream",
     "text": [
      "sex     pclass  survived\n",
      "female  1       0             5\n",
      "                1           139\n",
      "        2       0            12\n",
      "                1            94\n",
      "        3       0           110\n",
      "                1           106\n",
      "male    1       0           118\n",
      "                1            61\n",
      "        2       0           146\n",
      "                1            25\n",
      "        3       0           418\n",
      "                1            75\n",
      "dtype: int64\n"
     ]
    }
   ],
   "source": [
    "print(titanic.groupby(['sex', 'pclass', 'survived']).size())\n",
    "groups = titanic.groupby(['sex', 'pclass', 'survived']).count\n"
   ]
  },
  {
   "cell_type": "markdown",
   "metadata": {},
   "source": [
    "## 2.0 Data cleaning\n",
    "Create a new variable called titanic_clean so that, if you mess up you can always revert back by re-calling titanic. If you want, you can remove variables that are not of high relevance and have many missing values"
   ]
  },
  {
   "cell_type": "code",
   "execution_count": 222,
   "metadata": {},
   "outputs": [],
   "source": [
    "titanic_clean = titanic"
   ]
  },
  {
   "cell_type": "markdown",
   "metadata": {},
   "source": [
    "Now try combining the sibsp and parch variables into something that captures total relatives number"
   ]
  },
  {
   "cell_type": "code",
   "execution_count": 223,
   "metadata": {},
   "outputs": [],
   "source": [
    "titanic_clean['Overall_relatives'] = titanic_clean['sibsp'] + titanic_clean['parch']"
   ]
  },
  {
   "cell_type": "markdown",
   "metadata": {},
   "source": [
    "### 2.2 Practice reshaping dataset"
   ]
  },
  {
   "cell_type": "code",
   "execution_count": 224,
   "metadata": {},
   "outputs": [],
   "source": [
    "titanic_reshape = pd.melt(titanic_clean, value_vars=['Overall_relatives', 'sibsp', 'parch'], var_name='family_type', value_name='family_count')"
   ]
  },
  {
   "cell_type": "markdown",
   "metadata": {},
   "source": [
    "\n",
    "## 3. Using logic in your code\n",
    "\n",
    "\n",
    "### 3.1 Dealing with unexplicit variables in embarked. See if there's anything there that doesn't look like a port"
   ]
  },
  {
   "cell_type": "code",
   "execution_count": 225,
   "metadata": {},
   "outputs": [
    {
     "name": "stdout",
     "output_type": "stream",
     "text": [
      "['S', 'C', NaN, 'Q']\n",
      "Categories (3, object): ['S', 'C', 'Q']\n",
      "Empty DataFrame\n",
      "Columns: [pclass, survived, name, sex, age, sibsp, parch, ticket, fare, cabin, embarked, boat, body, home.dest, Last Name, Title, First Name, Overall_relatives]\n",
      "Index: []\n"
     ]
    }
   ],
   "source": [
    "\n",
    "print(titanic_clean['embarked'].unique())\n"
   ]
  },
  {
   "cell_type": "markdown",
   "metadata": {},
   "source": [
    "### 3.2 Check which entries, if any, have missing values\n"
   ]
  },
  {
   "cell_type": "code",
   "execution_count": null,
   "metadata": {},
   "outputs": [],
   "source": [
    "embarked_missing = titanic_clean[titanic_clean['embarked'] == '']\n",
    "print(embarked_missing.head(2))\n",
    "\n",
    "# Create a new column in titanic clean where for the value of the new variable to be entered\n",
    "titanic_clean['entry_port'] = None\n",
    "\n"
   ]
  },
  {
   "cell_type": "markdown",
   "metadata": {},
   "source": [
    "### 3.3 Iterate over the dataset to create the new column with the right values\n"
   ]
  },
  {
   "cell_type": "code",
   "execution_count": null,
   "metadata": {},
   "outputs": [],
   "source": [
    "for i in range(len(titanic_clean)):\n",
    "    if titanic_clean.at[i, 'embarked'] == 'S':\n",
    "        titanic_clean.at[i, 'entry_port'] = 'Southampton'\n",
    "    elif titanic_clean.at[i, 'embarked'] == 'C':\n",
    "        titanic_clean.at[i, 'entry_port'] = 'Cherbourg'\n",
    "    elif titanic_clean.at[i, 'embarked'] == 'Q':\n",
    "        titanic_clean.at[i, 'entry_port'] = 'Queenstown'\n",
    "\n"
   ]
  },
  {
   "cell_type": "markdown",
   "metadata": {},
   "source": [
    "### 3.4 Remove the variable 'embarked', make the column 'Entry_port' a category\n"
   ]
  },
  {
   "cell_type": "code",
   "execution_count": null,
   "metadata": {},
   "outputs": [],
   "source": [
    "titanic_clean.drop(columns=['embarked'], inplace=True)\n",
    "titanic_clean['entry_port'] = pd.Categorical(titanic_clean['entry_port'])"
   ]
  },
  {
   "cell_type": "markdown",
   "metadata": {},
   "source": [
    "\n",
    "## 4. Dealing with missing values\n",
    "\n",
    "### 4.1 Look again at the summary of titanic clean to identify columns with NA values\n"
   ]
  },
  {
   "cell_type": "code",
   "execution_count": null,
   "metadata": {},
   "outputs": [],
   "source": [
    "print(titanic_clean.describe())\n",
    "\n"
   ]
  },
  {
   "cell_type": "markdown",
   "metadata": {},
   "source": [
    "### 4.2 Remove the rows with missing values in relevant variables\n"
   ]
  },
  {
   "cell_type": "code",
   "execution_count": null,
   "metadata": {},
   "outputs": [],
   "source": [
    "titanic_clean.dropna(subset=['entry_port', 'age'], inplace=True)"
   ]
  },
  {
   "cell_type": "markdown",
   "metadata": {},
   "source": [
    "## 5. Creating summary statistics\n",
    "\n",
    "### 5.1 Create a DataFrame with sums and counts for people who died or survived\n"
   ]
  },
  {
   "cell_type": "code",
   "execution_count": null,
   "metadata": {},
   "outputs": [],
   "source": [
    "Tit_summary_surv = titanic_clean.groupby('pclass').agg(survived=('survived', 'sum'), Nb_people=('survived', 'count')).reset_index()\n",
    "Tit_summary_surv['Perc_died'] = 100 * (Tit_summary_surv['Nb_people'] - Tit_summary_surv['survived']) / Tit_summary_surv['Nb_people']\n",
    "\n"
   ]
  },
  {
   "cell_type": "markdown",
   "metadata": {},
   "source": [
    "\n",
    "### 5.2 Create a DataFrame to check whether there is a difference in the percentage of death for sex\n",
    "\n"
   ]
  },
  {
   "cell_type": "code",
   "execution_count": null,
   "metadata": {},
   "outputs": [],
   "source": [
    "titanic_summary_surv_gender = titanic_clean.groupby('sex').agg(survived=('survived', 'sum'), Nb_people=('survived', 'count')).reset_index()\n",
    "titanic_summary_surv_gender['Perc_died'] = 100 * (titanic_summary_surv_gender['Nb_people'] - titanic_summary_surv_gender['survived']) / titanic_summary_surv_gender['Nb_people']\n",
    "\n"
   ]
  },
  {
   "cell_type": "markdown",
   "metadata": {},
   "source": [
    "### 5.3 Create a DataFrame to check whether there is a difference in the percentage of death for both sex and class\n"
   ]
  },
  {
   "cell_type": "code",
   "execution_count": null,
   "metadata": {},
   "outputs": [],
   "source": [
    "titanic_summary_surv_gender_class = titanic_clean.groupby(['pclass', 'sex']).agg(survived=('survived', 'sum'), Nb_people=('survived', 'count'))\n",
    "titanic_summary_surv_gender_class['Perc_died'] = 100 * (titanic_summary_surv_gender_class['Nb_people'] - titanic_summary_surv_gender_class['survived']) / titanic_summary_surv_gender_class['Nb_people']\n",
    "\n"
   ]
  },
  {
   "cell_type": "markdown",
   "metadata": {},
   "source": [
    "### 5.4 Create a DataFrame which looks at summary for age groups on top of class and sex\n"
   ]
  },
  {
   "cell_type": "code",
   "execution_count": null,
   "metadata": {},
   "outputs": [],
   "source": [
    "titanic_clean['child_adult'] = ['Child' if age < 18 else 'Adult' for age in titanic_clean['age']]\n",
    "titanic_summary_surv_child = titanic_clean.groupby(['pclass', 'sex', 'child_adult']).agg(survived=('survived', 'sum'), Nb_people=('survived', 'count'))\n",
    "titanic_summary_surv_child['Perc_died'] = 100 * (titanic_summary_surv_child['Nb_people'] - titanic_summary_surv_child['survived']) / titanic_summary_surv_child['Nb_people']"
   ]
  }
 ],
 "metadata": {
  "kernelspec": {
   "display_name": "Python 3",
   "language": "python",
   "name": "python3"
  },
  "language_info": {
   "codemirror_mode": {
    "name": "ipython",
    "version": 3
   },
   "file_extension": ".py",
   "mimetype": "text/x-python",
   "name": "python",
   "nbconvert_exporter": "python",
   "pygments_lexer": "ipython3",
   "version": "3.9.5"
  },
  "orig_nbformat": 4
 },
 "nbformat": 4,
 "nbformat_minor": 2
}
